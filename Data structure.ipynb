{
 "cells": [
  {
   "cell_type": "code",
   "execution_count": null,
   "metadata": {},
   "outputs": [
    {
     "name": "stdout",
     "output_type": "stream",
     "text": [
      "narahs\n"
     ]
    }
   ],
   "source": [
    "# 1.Original string\n",
    "name = 'sharan'\n",
    "\n",
    "# Reverse the string\n",
    "reversed_name = name[::-1]\n",
    "\n",
    "# Print the reversed string\n",
    "print(reversed_name)\n"
   ]
  },
  {
   "cell_type": "code",
   "execution_count": null,
   "metadata": {},
   "outputs": [
    {
     "name": "stdout",
     "output_type": "stream",
     "text": [
      "The number of vowels in 'sharan' is: 2\n"
     ]
    }
   ],
   "source": [
    "# 2.Write a code to count the number of vowels in a string\n",
    "\n",
    "def count_vowels(s):\n",
    "    # Define the set of vowels\n",
    "    vowels = 'aeiouAEIOU'\n",
    "    count = 0\n",
    "    \n",
    "    # Iterate through the string and count vowels\n",
    "    for char in s:\n",
    "        if char in vowels:\n",
    "            count += 1\n",
    "            \n",
    "    return count\n",
    "\n",
    "# Example usage\n",
    "string = \"sharan\"\n",
    "vowel_count = count_vowels(string)\n",
    "print(f\"The number of vowels in '{string}' is:\", vowel_count)\n"
   ]
  },
  {
   "cell_type": "code",
   "execution_count": null,
   "metadata": {},
   "outputs": [
    {
     "name": "stdout",
     "output_type": "stream",
     "text": [
      "'A man, a plan, a canal, Panama' is a palindrome.\n"
     ]
    }
   ],
   "source": [
    "#3.Write a code to check if a given string is a palindrome or not\n",
    "\n",
    "def is_palindrome(s):\n",
    "    # Remove any non-alphanumeric characters and convert to lowercase\n",
    "    cleaned_string = ''.join(char.lower() for char in s if char.isalnum())\n",
    "    \n",
    "    # Check if the cleaned string is equal to its reverse\n",
    "    return cleaned_string == cleaned_string[::-1]\n",
    "\n",
    "# Example usage\n",
    "string = \"A man, a plan, a canal, Panama\"\n",
    "if is_palindrome(string):\n",
    "    print(f\"'{string}' is a palindrome.\")\n",
    "else:\n",
    "    print(f\"'{string}' is not a palindrome.\")\n"
   ]
  },
  {
   "cell_type": "code",
   "execution_count": null,
   "metadata": {},
   "outputs": [
    {
     "name": "stdout",
     "output_type": "stream",
     "text": [
      "'Listen' and 'Silent' are anagrams.\n"
     ]
    }
   ],
   "source": [
    "#4.Write a code to check if two given strings are anagrams of each other\n",
    "\n",
    "def are_anagrams(str1, str2):\n",
    "    # Remove any non-alphanumeric characters and convert to lowercase\n",
    "    cleaned_str1 = ''.join(char.lower() for char in str1 if char.isalnum())\n",
    "    cleaned_str2 = ''.join(char.lower() for char in str2 if char.isalnum())\n",
    "    \n",
    "    # Sort the characters in each string and compare\n",
    "    return sorted(cleaned_str1) == sorted(cleaned_str2)\n",
    "\n",
    "# Example usage\n",
    "string1 = \"Listen\"\n",
    "string2 = \"Silent\"\n",
    "\n",
    "if are_anagrams(string1, string2):\n",
    "    print(f\"'{string1}' and '{string2}' are anagrams.\")\n",
    "else:\n",
    "    print(f\"'{string1}' and '{string2}' are not anagrams.\")\n"
   ]
  },
  {
   "cell_type": "code",
   "execution_count": null,
   "metadata": {},
   "outputs": [
    {
     "name": "stdout",
     "output_type": "stream",
     "text": [
      "Occurrences of 'test' in the main string are at positions: [10, 29, 50, 71]\n"
     ]
    }
   ],
   "source": [
    "#5.Write a code to find all occurrences of a given substring within another string\n",
    "\n",
    "def find_substring_occurrences(main_string, substring):\n",
    "    occurrences = []\n",
    "    start = 0\n",
    "    while True:\n",
    "        start = main_string.find(substring, start)\n",
    "        if start == -1:\n",
    "            break\n",
    "        occurrences.append(start)\n",
    "        start += len(substring)  # Move to the next possible start position\n",
    "    return occurrences\n",
    "\n",
    "# Example usage\n",
    "main_string = \"This is a test string. Let's test how many times 'test' occurs in this test string.\"\n",
    "substring = \"test\"\n",
    "occurrences = find_substring_occurrences(main_string, substring)\n",
    "print(f\"Occurrences of '{substring}' in the main string are at positions:\", occurrences)\n"
   ]
  },
  {
   "cell_type": "code",
   "execution_count": 8,
   "metadata": {},
   "outputs": [
    {
     "name": "stdout",
     "output_type": "stream",
     "text": [
      "Original string: aaabbccccd\n",
      "Compressed string: a3b2c4d1\n"
     ]
    }
   ],
   "source": [
    "# 6.Write a code to perform basic string compression using the counts of repeated characters\n",
    "\n",
    "def compress_string(s):\n",
    "    if not s:\n",
    "        return \"\"\n",
    "    \n",
    "    compressed = []\n",
    "    count = 1\n",
    "    for i in range(1, len(s)):\n",
    "        if s[i] == s[i - 1]:\n",
    "            count += 1\n",
    "        else:\n",
    "            compressed.append(s[i - 1] + str(count))\n",
    "            count = 1\n",
    "    compressed.append(s[-1] + str(count))  # Append the last character and count\n",
    "\n",
    "    compressed_string = ''.join(compressed)\n",
    "    return compressed_string if len(compressed_string) < len(s) else s\n",
    "\n",
    "# Example usage\n",
    "string = \"aaabbccccd\"\n",
    "compressed_string = compress_string(string)\n",
    "print(f\"Original string: {string}\")\n",
    "print(f\"Compressed string: {compressed_string}\")\n"
   ]
  },
  {
   "cell_type": "code",
   "execution_count": 9,
   "metadata": {},
   "outputs": [
    {
     "name": "stdout",
     "output_type": "stream",
     "text": [
      "The string 'sharan' does not have all unique characters.\n"
     ]
    }
   ],
   "source": [
    "# 7.Write a code to determine if a string has all unique characters\n",
    "\n",
    "def has_unique_characters(s):\n",
    "    # Create an empty set to store characters\n",
    "    seen_characters = set()\n",
    "    \n",
    "    # Iterate through the string\n",
    "    for char in s:\n",
    "        # If character is already in the set, it's not unique\n",
    "        if char in seen_characters:\n",
    "            return False\n",
    "        # Add the character to the set\n",
    "        seen_characters.add(char)\n",
    "    \n",
    "    return True\n",
    "\n",
    "# Example usage\n",
    "string = \"sharan\"\n",
    "if has_unique_characters(string):\n",
    "    print(f\"The string '{string}' has all unique characters.\")\n",
    "else:\n",
    "    print(f\"The string '{string}' does not have all unique characters.\")\n"
   ]
  },
  {
   "cell_type": "code",
   "execution_count": 10,
   "metadata": {},
   "outputs": [
    {
     "name": "stdout",
     "output_type": "stream",
     "text": [
      "Original string: sharan\n",
      "Uppercase string: SHARAN\n"
     ]
    }
   ],
   "source": [
    "#8. Write a code to convert a given string to uppercase or lowercase\n",
    "\n",
    "def to_uppercase(s):\n",
    "    return s.upper()\n",
    "\n",
    "# Example usage\n",
    "string = \"sharan\"\n",
    "uppercase_string = to_uppercase(string)\n",
    "print(f\"Original string: {string}\")\n",
    "print(f\"Uppercase string: {uppercase_string}\")\n"
   ]
  },
  {
   "cell_type": "code",
   "execution_count": 11,
   "metadata": {},
   "outputs": [
    {
     "name": "stdout",
     "output_type": "stream",
     "text": [
      "The number of words in the string is: 11\n"
     ]
    }
   ],
   "source": [
    "#9.Write a code to count the number of words in a string\n",
    "\n",
    "def count_words(s):\n",
    "    # Split the string into words\n",
    "    words = s.split()\n",
    "    \n",
    "    # Return the number of words\n",
    "    return len(words)\n",
    "\n",
    "# Example usage\n",
    "string = \"This is an example sentence to count the number of words.\"\n",
    "word_count = count_words(string)\n",
    "print(f\"The number of words in the string is: {word_count}\")\n"
   ]
  },
  {
   "cell_type": "code",
   "execution_count": 12,
   "metadata": {},
   "outputs": [
    {
     "name": "stdout",
     "output_type": "stream",
     "text": [
      "Concatenated string using format: HelloWorld\n"
     ]
    }
   ],
   "source": [
    "#10.Write a code to concatenate two strings without using the + operator\n",
    "\n",
    "def concatenate_strings_format(str1, str2):\n",
    "    return \"{}{}\".format(str1, str2)\n",
    "\n",
    "# Example usage\n",
    "string1 = \"Hello\"\n",
    "string2 = \"World\"\n",
    "result = concatenate_strings_format(string1, string2)\n",
    "print(f\"Concatenated string using format: {result}\")\n"
   ]
  },
  {
   "cell_type": "code",
   "execution_count": 13,
   "metadata": {},
   "outputs": [
    {
     "name": "stdout",
     "output_type": "stream",
     "text": [
      "Original list: [1, 2, 3, 4, 2, 5, 2, 6, 2]\n",
      "List after removing all occurrences of 2: [1, 3, 4, 5, 6]\n"
     ]
    }
   ],
   "source": [
    "#11.Write a code to remove all occurrences of a specific element from a list\n",
    "\n",
    "def remove_all_occurrences(lst, element):\n",
    "    # Use list comprehension to filter out the specific element\n",
    "    return [item for item in lst if item != element]\n",
    "\n",
    "# Example usage\n",
    "original_list = [1, 2, 3, 4, 2, 5, 2, 6, 2]\n",
    "element_to_remove = 2\n",
    "modified_list = remove_all_occurrences(original_list, element_to_remove)\n",
    "\n",
    "print(f\"Original list: {original_list}\")\n",
    "print(f\"List after removing all occurrences of {element_to_remove}: {modified_list}\")\n",
    "\n"
   ]
  },
  {
   "cell_type": "code",
   "execution_count": 14,
   "metadata": {},
   "outputs": [
    {
     "name": "stdout",
     "output_type": "stream",
     "text": [
      "The second largest number in the list is: 45\n"
     ]
    }
   ],
   "source": [
    "#12.Implement a code to find the second largest number in a given list of integers\n",
    "\n",
    "def find_second_largest(numbers):\n",
    "    if len(numbers) < 2:\n",
    "        return None  # Not enough elements to find the second largest\n",
    "\n",
    "    first, second = float('-inf'), float('-inf')\n",
    "    for num in numbers:\n",
    "        if num > first:\n",
    "            first, second = num, first\n",
    "        elif first > num > second:\n",
    "            second = num\n",
    "    \n",
    "    return second if second != float('-inf') else None\n",
    "\n",
    "# Example usage\n",
    "numbers = [10, 20, 4, 45, 99, 45]\n",
    "second_largest = find_second_largest(numbers)\n",
    "print(f\"The second largest number in the list is: {second_largest}\")\n"
   ]
  },
  {
   "cell_type": "code",
   "execution_count": 15,
   "metadata": {},
   "outputs": [
    {
     "name": "stdout",
     "output_type": "stream",
     "text": [
      "Original list: [1, 2, 2, 3, 4, 4, 4, 5, 1, 2, 3, 5, 1]\n",
      "Occurrences dictionary: {1: 3, 2: 3, 3: 2, 4: 3, 5: 2}\n"
     ]
    }
   ],
   "source": [
    "#13.Create a code to count the occurrences of each element in a list and return a dictionary with elements as keys and their counts as values\n",
    "\n",
    "def count_occurrences(lst):\n",
    "    # Create an empty dictionary to store the counts\n",
    "    counts = {}\n",
    "    \n",
    "    # Iterate through the list\n",
    "    for item in lst:\n",
    "        if item in counts:\n",
    "            counts[item] += 1\n",
    "        else:\n",
    "            counts[item] = 1\n",
    "    \n",
    "    return counts\n",
    "\n",
    "# Example usage\n",
    "sample_list = [1, 2, 2, 3, 4, 4, 4, 5, 1, 2, 3, 5, 1]\n",
    "occurrence_dict = count_occurrences(sample_list)\n",
    "\n",
    "print(f\"Original list: {sample_list}\")\n",
    "print(f\"Occurrences dictionary: {occurrence_dict}\")\n"
   ]
  },
  {
   "cell_type": "code",
   "execution_count": 17,
   "metadata": {},
   "outputs": [
    {
     "name": "stdout",
     "output_type": "stream",
     "text": [
      "Original list: [1, 2, 3, 4, 5, 6]\n",
      "Reversed list: [6, 5, 4, 3, 2, 1]\n"
     ]
    }
   ],
   "source": [
    "#14.Write a code to reverse a list in-place without using any built-in reverse functions\n",
    "\n",
    "def reverse_list_in_place(lst):\n",
    "    left, right = 0, len(lst) - 1\n",
    "    while left < right:\n",
    "        # Swap elements at left and right indices\n",
    "        lst[left], lst[right] = lst[right], lst[left]\n",
    "        # Move towards the middle\n",
    "        left += 1\n",
    "        right -= 1\n",
    "\n",
    "# Example usage\n",
    "original_list = [1, 2, 3, 4, 5, 6]\n",
    "print(f\"Original list: {original_list}\")\n",
    "\n",
    "reverse_list_in_place(original_list)\n",
    "print(f\"Reversed list: {original_list}\")\n"
   ]
  },
  {
   "cell_type": "code",
   "execution_count": 18,
   "metadata": {},
   "outputs": [
    {
     "name": "stdout",
     "output_type": "stream",
     "text": [
      "Original list: [1, 2, 2, 3, 4, 4, 5, 1, 6, 3, 5, 7]\n",
      "List after removing duplicates: [1, 2, 3, 4, 5, 6, 7]\n"
     ]
    }
   ],
   "source": [
    "#15.Implement a code to find and remove duplicates from a list while preserving the original order of elements\n",
    "\n",
    "def remove_duplicates_preserve_order(lst):\n",
    "    seen = set()\n",
    "    result = []\n",
    "    for item in lst:\n",
    "        if item not in seen:\n",
    "            seen.add(item)\n",
    "            result.append(item)\n",
    "    return result\n",
    "\n",
    "# Example usage\n",
    "original_list = [1, 2, 2, 3, 4, 4, 5, 1, 6, 3, 5, 7]\n",
    "cleaned_list = remove_duplicates_preserve_order(original_list)\n",
    "\n",
    "print(f\"Original list: {original_list}\")\n",
    "print(f\"List after removing duplicates: {cleaned_list}\")\n"
   ]
  },
  {
   "cell_type": "code",
   "execution_count": 19,
   "metadata": {},
   "outputs": [
    {
     "name": "stdout",
     "output_type": "stream",
     "text": [
      "List [1, 2, 3, 4, 5] is sorted: True\n",
      "List [5, 4, 3, 2, 1] is sorted: True\n",
      "List [1, 3, 2, 4, 5] is sorted: False\n"
     ]
    }
   ],
   "source": [
    "#16.Create a code to check if a given list is sorted (either in ascending or descending order) or not\n",
    "\n",
    "def is_sorted(lst):\n",
    "    ascending = all(lst[i] <= lst[i + 1] for i in range(len(lst) - 1))\n",
    "    descending = all(lst[i] >= lst[i + 1] for i in range(len(lst) - 1))\n",
    "    return ascending or descending\n",
    "\n",
    "# Example usage\n",
    "list1 = [1, 2, 3, 4, 5]\n",
    "list2 = [5, 4, 3, 2, 1]\n",
    "list3 = [1, 3, 2, 4, 5]\n",
    "\n",
    "print(f\"List {list1} is sorted: {is_sorted(list1)}\")\n",
    "print(f\"List {list2} is sorted: {is_sorted(list2)}\")\n",
    "print(f\"List {list3} is sorted: {is_sorted(list3)}\")\n"
   ]
  },
  {
   "cell_type": "code",
   "execution_count": 20,
   "metadata": {},
   "outputs": [
    {
     "name": "stdout",
     "output_type": "stream",
     "text": [
      "Merged list: [1, 2, 3, 4, 5, 6, 7, 8]\n"
     ]
    }
   ],
   "source": [
    "#17.Write a code to merge two sorted lists into a single sorted list\n",
    "\n",
    "def merge_sorted_lists(list1, list2):\n",
    "    merged_list = []\n",
    "    i, j = 0, 0\n",
    "    \n",
    "    # Compare elements from both lists and add the smaller one to merged_list\n",
    "    while i < len(list1) and j < len(list2):\n",
    "        if list1[i] < list2[j]:\n",
    "            merged_list.append(list1[i])\n",
    "            i += 1\n",
    "        else:\n",
    "            merged_list.append(list2[j])\n",
    "            j += 1\n",
    "    \n",
    "    # Add remaining elements from list1, if any\n",
    "    while i < len(list1):\n",
    "        merged_list.append(list1[i])\n",
    "        i += 1\n",
    "    \n",
    "    # Add remaining elements from list2, if any\n",
    "    while j < len(list2):\n",
    "        merged_list.append(list2[j])\n",
    "        j += 1\n",
    "    \n",
    "    return merged_list\n",
    "\n",
    "# Example usage\n",
    "sorted_list1 = [1, 3, 5, 7]\n",
    "sorted_list2 = [2, 4, 6, 8]\n",
    "merged_list = merge_sorted_lists(sorted_list1, sorted_list2)\n",
    "\n",
    "print(f\"Merged list: {merged_list}\")\n"
   ]
  },
  {
   "cell_type": "code",
   "execution_count": 21,
   "metadata": {},
   "outputs": [
    {
     "name": "stdout",
     "output_type": "stream",
     "text": [
      "List 1: [1, 2, 3, 4, 5, 6]\n",
      "List 2: [4, 5, 6, 7, 8, 9]\n",
      "Intersection of List 1 and List 2: [4, 5, 6]\n"
     ]
    }
   ],
   "source": [
    "#18.Implement a code to find the intersection of two given lists\n",
    "\n",
    "def find_intersection(list1, list2):\n",
    "    # Convert lists to sets to find the intersection\n",
    "    set1 = set(list1)\n",
    "    set2 = set(list2)\n",
    "    intersection = set1.intersection(set2)\n",
    "    \n",
    "    # Convert the intersection set back to a list\n",
    "    return list(intersection)\n",
    "\n",
    "# Example usage\n",
    "list1 = [1, 2, 3, 4, 5, 6]\n",
    "list2 = [4, 5, 6, 7, 8, 9]\n",
    "intersection_list = find_intersection(list1, list2)\n",
    "\n",
    "print(f\"List 1: {list1}\")\n",
    "print(f\"List 2: {list2}\")\n",
    "print(f\"Intersection of List 1 and List 2: {intersection_list}\")\n"
   ]
  },
  {
   "cell_type": "code",
   "execution_count": 22,
   "metadata": {},
   "outputs": [
    {
     "name": "stdout",
     "output_type": "stream",
     "text": [
      "List 1: [1, 2, 3, 4, 5]\n",
      "List 2: [4, 5, 6, 7, 8]\n",
      "Union of List 1 and List 2 without duplicates: [1, 2, 3, 4, 5, 6, 7, 8]\n"
     ]
    }
   ],
   "source": [
    "#19.Create a code to find the union of two lists without duplicates\n",
    "\n",
    "def find_union(list1, list2):\n",
    "    # Convert lists to sets to find the union\n",
    "    set1 = set(list1)\n",
    "    set2 = set(list2)\n",
    "    union_set = set1.union(set2)\n",
    "    \n",
    "    # Convert the union set back to a list\n",
    "    return list(union_set)\n",
    "\n",
    "# Example usage\n",
    "list1 = [1, 2, 3, 4, 5]\n",
    "list2 = [4, 5, 6, 7, 8]\n",
    "union_list = find_union(list1, list2)\n",
    "\n",
    "print(f\"List 1: {list1}\")\n",
    "print(f\"List 2: {list2}\")\n",
    "print(f\"Union of List 1 and List 2 without duplicates: {union_list}\")\n"
   ]
  },
  {
   "cell_type": "code",
   "execution_count": 23,
   "metadata": {},
   "outputs": [
    {
     "name": "stdout",
     "output_type": "stream",
     "text": [
      "Original list: [1, 2, 3, 4, 5, 6]\n",
      "Shuffled list: [3, 2, 1, 4, 5, 6]\n"
     ]
    }
   ],
   "source": [
    "#20.Write a code to shuffle a given list randomly without using any built-in shuffle functions\n",
    "\n",
    "import random\n",
    "\n",
    "def shuffle_list(lst):\n",
    "    # Get the length of the list\n",
    "    n = len(lst)\n",
    "    for i in range(n - 1, 0, -1):\n",
    "        # Generate a random index j such that 0 <= j <= i\n",
    "        j = random.randint(0, i)\n",
    "        # Swap elements at indices i and j\n",
    "        lst[i], lst[j] = lst[j], lst[i]\n",
    "\n",
    "# Example usage\n",
    "original_list = [1, 2, 3, 4, 5, 6]\n",
    "print(f\"Original list: {original_list}\")\n",
    "\n",
    "shuffle_list(original_list)\n",
    "print(f\"Shuffled list: {original_list}\")\n"
   ]
  },
  {
   "cell_type": "code",
   "execution_count": 25,
   "metadata": {},
   "outputs": [
    {
     "name": "stdout",
     "output_type": "stream",
     "text": [
      "Tuple 1: (1, 2, 3, 4, 5)\n",
      "Tuple 2: (3, 4, 5, 6, 7)\n",
      "Common elements tuple: (3, 4, 5)\n"
     ]
    }
   ],
   "source": [
    "#21.Write a code that takes two tuples as input and returns a new tuple containing elements that are common to both input tuples\n",
    "\n",
    "def find_common_elements(tuple1, tuple2):\n",
    "    # Convert tuples to sets to find common elements\n",
    "    set1 = set(tuple1)\n",
    "    set2 = set(tuple2)\n",
    "    \n",
    "    # Find the intersection of the two sets\n",
    "    common_elements = set1.intersection(set2)\n",
    "    \n",
    "    # Convert the set of common elements back to a tuple\n",
    "    return tuple(common_elements)\n",
    "\n",
    "# Example usage\n",
    "tuple1 = (1, 2, 3, 4, 5)\n",
    "tuple2 = (3, 4, 5, 6, 7)\n",
    "common_tuple = find_common_elements(tuple1, tuple2)\n",
    "\n",
    "print(f\"Tuple 1: {tuple1}\")\n",
    "print(f\"Tuple 2: {tuple2}\")\n",
    "print(f\"Common elements tuple: {common_tuple}\")\n"
   ]
  },
  {
   "cell_type": "code",
   "execution_count": null,
   "metadata": {},
   "outputs": [],
   "source": [
    "#22.Create a code that prompts the user to enter two sets of integers separated by commas. Then, print the intersection of these two sets\n",
    "\n",
    "def get_set_from_input(prompt):\n",
    "    user_input = input(prompt)\n",
    "    # Split the input string by commas, convert to integers, and create a set\n",
    "    return set(map(int, user_input.split(',')))\n",
    "\n",
    "def main():\n",
    "    # Prompt the user to enter two sets of integers\n",
    "    set1 = get_set_from_input(\"Enter the first set of integers (separated by commas): \")\n",
    "    set2 = get_set_from_input(\"Enter the second set of integers (separated by commas): \")\n",
    "\n",
    "    # Find the intersection of the two sets\n",
    "    intersection = set1.intersection(set2)\n",
    "\n",
    "    # Print the intersection\n",
    "    print(f\"The intersection of the two sets is: {intersection}\")\n",
    "\n",
    "if __name__ == \"__main__\":\n",
    "    main()\n"
   ]
  },
  {
   "cell_type": "code",
   "execution_count": 2,
   "metadata": {},
   "outputs": [
    {
     "name": "stdout",
     "output_type": "stream",
     "text": [
      "Tuple 1: (1, 2, 3)\n",
      "Tuple 2: (4, 5, 6)\n",
      "Concatenated tuple: (1, 2, 3, 4, 5, 6)\n"
     ]
    }
   ],
   "source": [
    "#23.Write a code to concatenate two tuples. The function should take two tuples as input and return a new tuple containing elements from both input tuples\n",
    "\n",
    "def concatenate_tuples(tuple1, tuple2):\n",
    "    return tuple1 + tuple2\n",
    "\n",
    "# Example usage\n",
    "tuple1 = (1, 2, 3)\n",
    "tuple2 = (4, 5, 6)\n",
    "result_tuple = concatenate_tuples(tuple1, tuple2)\n",
    "\n",
    "print(f\"Tuple 1: {tuple1}\")\n",
    "print(f\"Tuple 2: {tuple2}\")\n",
    "print(f\"Concatenated tuple: {result_tuple}\")\n"
   ]
  },
  {
   "cell_type": "code",
   "execution_count": null,
   "metadata": {},
   "outputs": [],
   "source": [
    "#24.Develop a code that prompts the user to input two sets of strings. Then, print the elements that are present in the first set but not in the second set\n",
    "\n",
    "def get_set_from_input(prompt):\n",
    "    user_input = input(prompt)\n",
    "    # Split the input string by commas and strip any extra spaces\n",
    "    return set(item.strip() for item in user_input.split(','))\n",
    "\n",
    "def main():\n",
    "    # Prompt the user to enter two sets of strings\n",
    "    set1 = get_set_from_input(\"Enter the first set of strings (separated by commas): \")\n",
    "    set2 = get_set_from_input(\"Enter the second set of strings (separated by commas): \")\n",
    "\n",
    "    # Find the difference between the two sets\n",
    "    difference = set1 - set2\n",
    "\n",
    "    # Print the elements that are in the first set but not in the second set\n",
    "    print(f\"Elements in the first set but not in the second set: {difference}\")\n",
    "\n",
    "if __name__ == \"__main__\":\n",
    "    main()\n"
   ]
  },
  {
   "cell_type": "code",
   "execution_count": 1,
   "metadata": {},
   "outputs": [
    {
     "name": "stdout",
     "output_type": "stream",
     "text": [
      "Original tuple: (1, 2, 3, 4, 5, 6, 7, 8)\n",
      "Sliced tuple (from index 2 to 5): (3, 4, 5)\n"
     ]
    }
   ],
   "source": [
    "#25.Create a code that takes a tuple and two integers as input. The function should return a new tuple containing elements from the original tuple within the specified range of indices\n",
    "\n",
    "def slice_tuple(input_tuple, start_index, end_index):\n",
    "    # Return a new tuple containing elements from start_index to end_index (exclusive)\n",
    "    return input_tuple[start_index:end_index]\n",
    "\n",
    "# Example usage\n",
    "original_tuple = (1, 2, 3, 4, 5, 6, 7, 8)\n",
    "start = 2\n",
    "end = 5\n",
    "sliced_tuple = slice_tuple(original_tuple, start, end)\n",
    "\n",
    "print(f\"Original tuple: {original_tuple}\")\n",
    "print(f\"Sliced tuple (from index {start} to {end}): {sliced_tuple}\")\n"
   ]
  },
  {
   "cell_type": "code",
   "execution_count": null,
   "metadata": {},
   "outputs": [],
   "source": [
    "#26.Write a code that prompts the user to input two sets of characters. Then, print the union of these two sets\n",
    "\n",
    "def get_set_from_input(prompt):\n",
    "    user_input = input(prompt)\n",
    "    # Split the input string by commas and strip any extra spaces\n",
    "    return set(item.strip() for item in user_input.split(','))\n",
    "\n",
    "def main():\n",
    "    # Prompt the user to enter two sets of characters\n",
    "    set1 = get_set_from_input(\"Enter the first set of characters (separated by commas): \")\n",
    "    set2 = get_set_from_input(\"Enter the second set of characters (separated by commas): \")\n",
    "\n",
    "    # Find the union of the two sets\n",
    "    union_set = set1.union(set2)\n",
    "\n",
    "    # Print the union\n",
    "    print(f\"The union of the two sets is: {union_set}\")\n",
    "\n",
    "if __name__ == \"__main__\":\n",
    "    main()\n"
   ]
  },
  {
   "cell_type": "code",
   "execution_count": 1,
   "metadata": {},
   "outputs": [
    {
     "name": "stdout",
     "output_type": "stream",
     "text": [
      "Input tuple: (3, 1, 4, 1, 5, 9, 2, 6, 5, 3, 5)\n",
      "Minimum value: 1\n",
      "Maximum value: 9\n"
     ]
    }
   ],
   "source": [
    "#27.Develop a code that takes a tuple of integers as input. The function should return the maximum and minimum values from the tuple using tuple unpacking\n",
    "\n",
    "def find_min_max(input_tuple):\n",
    "    # Use the built-in min and max functions to find the minimum and maximum values\n",
    "    min_value = min(input_tuple)\n",
    "    max_value = max(input_tuple)\n",
    "    \n",
    "    # Return the values as a tuple\n",
    "    return min_value, max_value\n",
    "\n",
    "# Example usage\n",
    "input_tuple = (3, 1, 4, 1, 5, 9, 2, 6, 5, 3, 5)\n",
    "min_value, max_value = find_min_max(input_tuple)\n",
    "\n",
    "print(f\"Input tuple: {input_tuple}\")\n",
    "print(f\"Minimum value: {min_value}\")\n",
    "print(f\"Maximum value: {max_value}\")\n"
   ]
  },
  {
   "cell_type": "code",
   "execution_count": 2,
   "metadata": {},
   "outputs": [
    {
     "name": "stdout",
     "output_type": "stream",
     "text": [
      "Set 1: {1, 2, 3, 4, 5}\n",
      "Set 2: {4, 5, 6, 7, 8}\n",
      "Union of Set 1 and Set 2: {1, 2, 3, 4, 5, 6, 7, 8}\n",
      "Intersection of Set 1 and Set 2: {4, 5}\n",
      "Difference of Set 1 and Set 2 (elements in Set 1 but not in Set 2): {1, 2, 3}\n"
     ]
    }
   ],
   "source": [
    "#28. Create a code that defines two sets of integers. Then, print the union, intersection, and difference of these two sets\n",
    "\n",
    "def main():\n",
    "    # Define two sets of integers\n",
    "    set1 = {1, 2, 3, 4, 5}\n",
    "    set2 = {4, 5, 6, 7, 8}\n",
    "\n",
    "    # Calculate the union, intersection, and difference of the sets\n",
    "    union_set = set1.union(set2)\n",
    "    intersection_set = set1.intersection(set2)\n",
    "    difference_set = set1.difference(set2)\n",
    "\n",
    "    # Print the results\n",
    "    print(f\"Set 1: {set1}\")\n",
    "    print(f\"Set 2: {set2}\")\n",
    "    print(f\"Union of Set 1 and Set 2: {union_set}\")\n",
    "    print(f\"Intersection of Set 1 and Set 2: {intersection_set}\")\n",
    "    print(f\"Difference of Set 1 and Set 2 (elements in Set 1 but not in Set 2): {difference_set}\")\n",
    "\n",
    "if __name__ == \"__main__\":\n",
    "    main()\n"
   ]
  },
  {
   "cell_type": "code",
   "execution_count": 3,
   "metadata": {},
   "outputs": [
    {
     "name": "stdout",
     "output_type": "stream",
     "text": [
      "Input tuple: (1, 2, 3, 4, 2, 2, 5, 2)\n",
      "Element to count: 2\n",
      "Number of occurrences of 2: 4\n"
     ]
    }
   ],
   "source": [
    "#29.Write a code that takes a tuple and an element as input. The function should return the count of occurrences of the given element in the tuple\n",
    "\n",
    "def count_occurrences(input_tuple, element):\n",
    "    # Use the count method to count occurrences of the element in the tuple\n",
    "    return input_tuple.count(element)\n",
    "\n",
    "# Example usage\n",
    "input_tuple = (1, 2, 3, 4, 2, 2, 5, 2)\n",
    "element = 2\n",
    "occurrences = count_occurrences(input_tuple, element)\n",
    "\n",
    "print(f\"Input tuple: {input_tuple}\")\n",
    "print(f\"Element to count: {element}\")\n",
    "print(f\"Number of occurrences of {element}: {occurrences}\")\n"
   ]
  },
  {
   "cell_type": "code",
   "execution_count": null,
   "metadata": {},
   "outputs": [],
   "source": [
    "#30.Develop a code that prompts the user to input two sets of strings. Then, print the symmetric difference of these two sets\n",
    "\n",
    "def get_set_from_input(prompt):\n",
    "    user_input = input(prompt)\n",
    "    # Split the input string by commas and strip any extra spaces\n",
    "    return set(item.strip() for item in user_input.split(','))\n",
    "\n",
    "def main():\n",
    "    # Prompt the user to enter two sets of strings\n",
    "    set1 = get_set_from_input(\"Enter the first set of strings (separated by commas): \")\n",
    "    set2 = get_set_from_input(\"Enter the second set of strings (separated by commas): \")\n",
    "\n",
    "    # Find the symmetric difference of the two sets\n",
    "    symmetric_difference = set1.symmetric_difference(set2)\n",
    "\n",
    "    # Print the symmetric difference\n",
    "    print(f\"The symmetric difference of the two sets is: {symmetric_difference}\")\n",
    "\n",
    "if __name__ == \"__main__\":\n",
    "    main()\n"
   ]
  },
  {
   "cell_type": "code",
   "execution_count": null,
   "metadata": {},
   "outputs": [],
   "source": [
    "#31. Write a code that takes a list of words as input and returns a dictionary where the keys are unique words and the values are the frequencies of those words in the input list\n",
    "\n",
    "def count_word_frequencies(word_list):\n",
    "    # Create an empty dictionary to store word frequencies\n",
    "    word_frequencies = {}\n",
    "    \n",
    "    # Iterate through the list of words\n",
    "    for word in word_list:\n",
    "        # If the word is already in the dictionary, increment its count\n",
    "        if word in word_frequencies:\n",
    "            word_frequencies[word] += 1\n",
    "        else:\n",
    "            # If the word is not in the dictionary, add it with a count of 1\n",
    "            word_frequencies[word] = 1\n",
    "    \n",
    "    return word_frequencies\n",
    "\n",
    "# Example usage\n",
    "word_list = [\"apple\", \"banana\", \"apple\", \"cherry\", \"banana\", \"cherry\", \"cherry\"]\n",
    "word_frequencies = count_word_frequencies(word_list)\n",
    "\n",
    "print(f\"Word list: {word_list}\")\n",
    "print(f\"Word frequencies: {word_frequencies}\")\n"
   ]
  },
  {
   "cell_type": "code",
   "execution_count": 1,
   "metadata": {},
   "outputs": [
    {
     "name": "stdout",
     "output_type": "stream",
     "text": [
      "Dictionary 1: {'a': 1, 'b': 2, 'c': 3}\n",
      "Dictionary 2: {'b': 3, 'c': 4, 'd': 5}\n",
      "Merged dictionary: {'a': 1, 'b': 5, 'c': 7, 'd': 5}\n"
     ]
    }
   ],
   "source": [
    "#32.Write a code that takes two dictionaries as input and merges them into a single dictionary. If there are common keys, the values should be added together\n",
    "\n",
    "def merge_dictionaries(dict1, dict2):\n",
    "    # Create a copy of the first dictionary to avoid modifying the original\n",
    "    merged_dict = dict1.copy()\n",
    "    \n",
    "    # Iterate through the second dictionary\n",
    "    for key, value in dict2.items():\n",
    "        if key in merged_dict:\n",
    "            # If the key is already in the merged dictionary, add the values\n",
    "            merged_dict[key] += value\n",
    "        else:\n",
    "            # If the key is not in the merged dictionary, add the key-value pair\n",
    "            merged_dict[key] = value\n",
    "            \n",
    "    return merged_dict\n",
    "\n",
    "# Example usage\n",
    "dict1 = {'a': 1, 'b': 2, 'c': 3}\n",
    "dict2 = {'b': 3, 'c': 4, 'd': 5}\n",
    "merged_dict = merge_dictionaries(dict1, dict2)\n",
    "\n",
    "print(f\"Dictionary 1: {dict1}\")\n",
    "print(f\"Dictionary 2: {dict2}\")\n",
    "print(f\"Merged dictionary: {merged_dict}\")\n"
   ]
  },
  {
   "cell_type": "code",
   "execution_count": 2,
   "metadata": {},
   "outputs": [
    {
     "name": "stdout",
     "output_type": "stream",
     "text": [
      "Nested dictionary: {'a': {'b': {'c': 'd'}}, 'x': {'y': {'z': 'w'}}}\n",
      "Keys: ['a', 'b', 'c']\n",
      "Value: d\n"
     ]
    }
   ],
   "source": [
    "#33.Write a code to access a value in a nested dictionary. The function should take the dictionary and a list of keys as input, and return the corresponding value. If any of the keys do not exist in the dictionary, the function should return None\n",
    "\n",
    "def get_nested_value(dictionary, keys):\n",
    "    current_value = dictionary\n",
    "    for key in keys:\n",
    "        if isinstance(current_value, dict) and key in current_value:\n",
    "            current_value = current_value[key]\n",
    "        else:\n",
    "            return None\n",
    "    return current_value\n",
    "\n",
    "# Example usage\n",
    "nested_dict = {\n",
    "    'a': {\n",
    "        'b': {\n",
    "            'c': 'd'\n",
    "        }\n",
    "    },\n",
    "    'x': {\n",
    "        'y': {\n",
    "            'z': 'w'\n",
    "        }\n",
    "    }\n",
    "}\n",
    "keys = ['a', 'b', 'c']\n",
    "value = get_nested_value(nested_dict, keys)\n",
    "\n",
    "print(f\"Nested dictionary: {nested_dict}\")\n",
    "print(f\"Keys: {keys}\")\n",
    "print(f\"Value: {value}\")\n"
   ]
  },
  {
   "cell_type": "code",
   "execution_count": 3,
   "metadata": {},
   "outputs": [
    {
     "name": "stdout",
     "output_type": "stream",
     "text": [
      "Original dictionary: {'a': 3, 'b': 1, 'c': 2, 'd': 5}\n",
      "Dictionary sorted in ascending order: {'b': 1, 'c': 2, 'a': 3, 'd': 5}\n",
      "Dictionary sorted in descending order: {'d': 5, 'a': 3, 'c': 2, 'b': 1}\n"
     ]
    }
   ],
   "source": [
    "#34.Write a code that takes a dictionary as input and returns a sorted version of it based on the values. You can choose whether to sort in ascending or descending order\n",
    "\n",
    "def sort_dict_by_values(input_dict, ascending=True):\n",
    "    sorted_dict = dict(sorted(input_dict.items(), key=lambda item: item[1], reverse=not ascending))\n",
    "    return sorted_dict\n",
    "\n",
    "# Example usage\n",
    "input_dict = {'a': 3, 'b': 1, 'c': 2, 'd': 5}\n",
    "sorted_dict_ascending = sort_dict_by_values(input_dict, ascending=True)\n",
    "sorted_dict_descending = sort_dict_by_values(input_dict, ascending=False)\n",
    "\n",
    "print(f\"Original dictionary: {input_dict}\")\n",
    "print(f\"Dictionary sorted in ascending order: {sorted_dict_ascending}\")\n",
    "print(f\"Dictionary sorted in descending order: {sorted_dict_descending}\")\n"
   ]
  },
  {
   "cell_type": "code",
   "execution_count": 4,
   "metadata": {},
   "outputs": [
    {
     "name": "stdout",
     "output_type": "stream",
     "text": [
      "Original dictionary: {'a': 1, 'b': 2, 'c': 1, 'd': 3, 'e': 2}\n",
      "Inverted dictionary: {1: ['a', 'c'], 2: ['b', 'e'], 3: ['d']}\n"
     ]
    }
   ],
   "source": [
    "#35.Write a code that inverts a dictionary, swapping keys and values. Ensure that the inverted dictionary correctly handles cases where multiple keys have the same value by storing the keys as a list in the inverted dictionary3\n",
    "\n",
    "def invert_dictionary(input_dict):\n",
    "    inverted_dict = {}\n",
    "    \n",
    "    for key, value in input_dict.items():\n",
    "        if value in inverted_dict:\n",
    "            inverted_dict[value].append(key)\n",
    "        else:\n",
    "            inverted_dict[value] = [key]\n",
    "    \n",
    "    return inverted_dict\n",
    "\n",
    "# Example usage\n",
    "original_dict = {'a': 1, 'b': 2, 'c': 1, 'd': 3, 'e': 2}\n",
    "inverted_dict = invert_dictionary(original_dict)\n",
    "\n",
    "print(f\"Original dictionary: {original_dict}\")\n",
    "print(f\"Inverted dictionary: {inverted_dict}\")\n"
   ]
  }
 ],
 "metadata": {
  "kernelspec": {
   "display_name": "Python 3",
   "language": "python",
   "name": "python3"
  },
  "language_info": {
   "codemirror_mode": {
    "name": "ipython",
    "version": 3
   },
   "file_extension": ".py",
   "mimetype": "text/x-python",
   "name": "python",
   "nbconvert_exporter": "python",
   "pygments_lexer": "ipython3",
   "version": "3.12.6"
  }
 },
 "nbformat": 4,
 "nbformat_minor": 2
}
